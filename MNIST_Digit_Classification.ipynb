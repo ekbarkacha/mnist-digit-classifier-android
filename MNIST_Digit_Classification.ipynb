{
 "cells": [
  {
   "cell_type": "markdown",
   "id": "d46cce3e-817d-408d-b68f-353c59259ea0",
   "metadata": {},
   "source": [
    "# Building a Handwritten Digit Classifier with TensorFlow and Android\n",
    "\n",
    "**NAME:** Emmanuel Kirui\n",
    "\n",
    "**EMAIL:** kiruiemmanuel4@gmail.com\n",
    "\n",
    "## Introduction\n",
    "In this codelab, you will experience the end-to-end process of training a machine learning model to recognize handwritten digit images from the MNIST dataset using TensorFlow and converting it to TensorFlow Lite for mobile app deployment.\n",
    "\n",
    "**Goal:** By the end of this codelab, you will have an Android app that can recognize handwritten digits that you draw on the screen.\n",
    "\n",
    "## Step 1: Set Up Your Environment\n",
    "Before you begin, make sure to install the necessary libraries.\n",
    "\n",
    "### 1.1 Install Required Libraries\n",
    "Run the following command in your Google Colab or Jupyter Notebook environment to install TensorFlow and other dependencies."
   ]
  },
  {
   "cell_type": "code",
   "execution_count": 1,
   "id": "6420d3ba-cd94-48fc-b6f9-fe3954ba324d",
   "metadata": {},
   "outputs": [
    {
     "name": "stdout",
     "output_type": "stream",
     "text": [
      "Requirement already satisfied: tensorflow in c:\\users\\emmanuel\\anaconda3\\lib\\site-packages (2.18.0)\n",
      "Requirement already satisfied: tensorflow_datasets in c:\\users\\emmanuel\\anaconda3\\lib\\site-packages (4.9.7)\n",
      "Requirement already satisfied: matplotlib in c:\\users\\emmanuel\\anaconda3\\lib\\site-packages (3.9.2)\n",
      "Requirement already satisfied: numpy in c:\\users\\emmanuel\\anaconda3\\lib\\site-packages (1.26.4)\n",
      "Requirement already satisfied: tensorflow-intel==2.18.0 in c:\\users\\emmanuel\\anaconda3\\lib\\site-packages (from tensorflow) (2.18.0)\n",
      "Requirement already satisfied: absl-py>=1.0.0 in c:\\users\\emmanuel\\anaconda3\\lib\\site-packages (from tensorflow-intel==2.18.0->tensorflow) (2.1.0)\n",
      "Requirement already satisfied: astunparse>=1.6.0 in c:\\users\\emmanuel\\anaconda3\\lib\\site-packages (from tensorflow-intel==2.18.0->tensorflow) (1.6.3)\n",
      "Requirement already satisfied: flatbuffers>=24.3.25 in c:\\users\\emmanuel\\anaconda3\\lib\\site-packages (from tensorflow-intel==2.18.0->tensorflow) (25.1.24)\n",
      "Requirement already satisfied: gast!=0.5.0,!=0.5.1,!=0.5.2,>=0.2.1 in c:\\users\\emmanuel\\anaconda3\\lib\\site-packages (from tensorflow-intel==2.18.0->tensorflow) (0.6.0)\n",
      "Requirement already satisfied: google-pasta>=0.1.1 in c:\\users\\emmanuel\\anaconda3\\lib\\site-packages (from tensorflow-intel==2.18.0->tensorflow) (0.2.0)\n",
      "Requirement already satisfied: libclang>=13.0.0 in c:\\users\\emmanuel\\anaconda3\\lib\\site-packages (from tensorflow-intel==2.18.0->tensorflow) (18.1.1)\n",
      "Requirement already satisfied: opt-einsum>=2.3.2 in c:\\users\\emmanuel\\anaconda3\\lib\\site-packages (from tensorflow-intel==2.18.0->tensorflow) (3.4.0)\n",
      "Requirement already satisfied: packaging in c:\\users\\emmanuel\\anaconda3\\lib\\site-packages (from tensorflow-intel==2.18.0->tensorflow) (24.1)\n",
      "Requirement already satisfied: protobuf!=4.21.0,!=4.21.1,!=4.21.2,!=4.21.3,!=4.21.4,!=4.21.5,<6.0.0dev,>=3.20.3 in c:\\users\\emmanuel\\anaconda3\\lib\\site-packages (from tensorflow-intel==2.18.0->tensorflow) (4.25.3)\n",
      "Requirement already satisfied: requests<3,>=2.21.0 in c:\\users\\emmanuel\\anaconda3\\lib\\site-packages (from tensorflow-intel==2.18.0->tensorflow) (2.32.3)\n",
      "Requirement already satisfied: setuptools in c:\\users\\emmanuel\\anaconda3\\lib\\site-packages (from tensorflow-intel==2.18.0->tensorflow) (75.1.0)\n",
      "Requirement already satisfied: six>=1.12.0 in c:\\users\\emmanuel\\anaconda3\\lib\\site-packages (from tensorflow-intel==2.18.0->tensorflow) (1.16.0)\n",
      "Requirement already satisfied: termcolor>=1.1.0 in c:\\users\\emmanuel\\anaconda3\\lib\\site-packages (from tensorflow-intel==2.18.0->tensorflow) (2.5.0)\n",
      "Requirement already satisfied: typing-extensions>=3.6.6 in c:\\users\\emmanuel\\anaconda3\\lib\\site-packages (from tensorflow-intel==2.18.0->tensorflow) (4.11.0)\n",
      "Requirement already satisfied: wrapt>=1.11.0 in c:\\users\\emmanuel\\anaconda3\\lib\\site-packages (from tensorflow-intel==2.18.0->tensorflow) (1.14.1)\n",
      "Requirement already satisfied: grpcio<2.0,>=1.24.3 in c:\\users\\emmanuel\\anaconda3\\lib\\site-packages (from tensorflow-intel==2.18.0->tensorflow) (1.70.0)\n",
      "Requirement already satisfied: tensorboard<2.19,>=2.18 in c:\\users\\emmanuel\\anaconda3\\lib\\site-packages (from tensorflow-intel==2.18.0->tensorflow) (2.18.0)\n",
      "Requirement already satisfied: keras>=3.5.0 in c:\\users\\emmanuel\\anaconda3\\lib\\site-packages (from tensorflow-intel==2.18.0->tensorflow) (3.8.0)\n",
      "Requirement already satisfied: h5py>=3.11.0 in c:\\users\\emmanuel\\anaconda3\\lib\\site-packages (from tensorflow-intel==2.18.0->tensorflow) (3.11.0)\n",
      "Requirement already satisfied: ml-dtypes<0.5.0,>=0.4.0 in c:\\users\\emmanuel\\anaconda3\\lib\\site-packages (from tensorflow-intel==2.18.0->tensorflow) (0.4.1)\n",
      "Requirement already satisfied: click in c:\\users\\emmanuel\\anaconda3\\lib\\site-packages (from tensorflow_datasets) (8.1.7)\n",
      "Requirement already satisfied: dm-tree in c:\\users\\emmanuel\\anaconda3\\lib\\site-packages (from tensorflow_datasets) (0.1.9)\n",
      "Requirement already satisfied: immutabledict in c:\\users\\emmanuel\\anaconda3\\lib\\site-packages (from tensorflow_datasets) (4.2.1)\n",
      "Requirement already satisfied: promise in c:\\users\\emmanuel\\anaconda3\\lib\\site-packages (from tensorflow_datasets) (2.3)\n",
      "Requirement already satisfied: psutil in c:\\users\\emmanuel\\anaconda3\\lib\\site-packages (from tensorflow_datasets) (5.9.0)\n",
      "Requirement already satisfied: pyarrow in c:\\users\\emmanuel\\anaconda3\\lib\\site-packages (from tensorflow_datasets) (16.1.0)\n",
      "Requirement already satisfied: simple-parsing in c:\\users\\emmanuel\\anaconda3\\lib\\site-packages (from tensorflow_datasets) (0.1.7)\n",
      "Requirement already satisfied: tensorflow-metadata in c:\\users\\emmanuel\\anaconda3\\lib\\site-packages (from tensorflow_datasets) (1.16.1)\n",
      "Requirement already satisfied: toml in c:\\users\\emmanuel\\anaconda3\\lib\\site-packages (from tensorflow_datasets) (0.10.2)\n",
      "Requirement already satisfied: tqdm in c:\\users\\emmanuel\\anaconda3\\lib\\site-packages (from tensorflow_datasets) (4.66.5)\n",
      "Requirement already satisfied: etils>=1.9.1 in c:\\users\\emmanuel\\anaconda3\\lib\\site-packages (from etils[edc,enp,epath,epy,etree]>=1.9.1; python_version >= \"3.11\"->tensorflow_datasets) (1.11.0)\n",
      "Requirement already satisfied: contourpy>=1.0.1 in c:\\users\\emmanuel\\anaconda3\\lib\\site-packages (from matplotlib) (1.2.0)\n",
      "Requirement already satisfied: cycler>=0.10 in c:\\users\\emmanuel\\anaconda3\\lib\\site-packages (from matplotlib) (0.11.0)\n",
      "Requirement already satisfied: fonttools>=4.22.0 in c:\\users\\emmanuel\\anaconda3\\lib\\site-packages (from matplotlib) (4.51.0)\n",
      "Requirement already satisfied: kiwisolver>=1.3.1 in c:\\users\\emmanuel\\anaconda3\\lib\\site-packages (from matplotlib) (1.4.4)\n",
      "Requirement already satisfied: pillow>=8 in c:\\users\\emmanuel\\anaconda3\\lib\\site-packages (from matplotlib) (10.4.0)\n",
      "Requirement already satisfied: pyparsing>=2.3.1 in c:\\users\\emmanuel\\anaconda3\\lib\\site-packages (from matplotlib) (3.1.2)\n",
      "Requirement already satisfied: python-dateutil>=2.7 in c:\\users\\emmanuel\\anaconda3\\lib\\site-packages (from matplotlib) (2.9.0.post0)\n",
      "Requirement already satisfied: fsspec in c:\\users\\emmanuel\\anaconda3\\lib\\site-packages (from etils[edc,enp,epath,epy,etree]>=1.9.1; python_version >= \"3.11\"->tensorflow_datasets) (2024.6.1)\n",
      "Requirement already satisfied: importlib_resources in c:\\users\\emmanuel\\anaconda3\\lib\\site-packages (from etils[edc,enp,epath,epy,etree]>=1.9.1; python_version >= \"3.11\"->tensorflow_datasets) (6.5.2)\n",
      "Requirement already satisfied: zipp in c:\\users\\emmanuel\\anaconda3\\lib\\site-packages (from etils[edc,enp,epath,epy,etree]>=1.9.1; python_version >= \"3.11\"->tensorflow_datasets) (3.17.0)\n",
      "Requirement already satisfied: charset-normalizer<4,>=2 in c:\\users\\emmanuel\\anaconda3\\lib\\site-packages (from requests<3,>=2.21.0->tensorflow-intel==2.18.0->tensorflow) (3.3.2)\n",
      "Requirement already satisfied: idna<4,>=2.5 in c:\\users\\emmanuel\\anaconda3\\lib\\site-packages (from requests<3,>=2.21.0->tensorflow-intel==2.18.0->tensorflow) (3.7)\n",
      "Requirement already satisfied: urllib3<3,>=1.21.1 in c:\\users\\emmanuel\\anaconda3\\lib\\site-packages (from requests<3,>=2.21.0->tensorflow-intel==2.18.0->tensorflow) (2.2.3)\n",
      "Requirement already satisfied: certifi>=2017.4.17 in c:\\users\\emmanuel\\anaconda3\\lib\\site-packages (from requests<3,>=2.21.0->tensorflow-intel==2.18.0->tensorflow) (2024.8.30)\n",
      "Requirement already satisfied: colorama in c:\\users\\emmanuel\\anaconda3\\lib\\site-packages (from click->tensorflow_datasets) (0.4.6)\n",
      "Requirement already satisfied: attrs>=18.2.0 in c:\\users\\emmanuel\\anaconda3\\lib\\site-packages (from dm-tree->tensorflow_datasets) (23.1.0)\n",
      "Requirement already satisfied: docstring-parser<1.0,>=0.15 in c:\\users\\emmanuel\\anaconda3\\lib\\site-packages (from simple-parsing->tensorflow_datasets) (0.16)\n",
      "Requirement already satisfied: googleapis-common-protos<2,>=1.56.4 in c:\\users\\emmanuel\\anaconda3\\lib\\site-packages (from tensorflow-metadata->tensorflow_datasets) (1.66.0)\n",
      "Requirement already satisfied: wheel<1.0,>=0.23.0 in c:\\users\\emmanuel\\anaconda3\\lib\\site-packages (from astunparse>=1.6.0->tensorflow-intel==2.18.0->tensorflow) (0.44.0)\n",
      "Requirement already satisfied: rich in c:\\users\\emmanuel\\anaconda3\\lib\\site-packages (from keras>=3.5.0->tensorflow-intel==2.18.0->tensorflow) (13.7.1)\n",
      "Requirement already satisfied: namex in c:\\users\\emmanuel\\anaconda3\\lib\\site-packages (from keras>=3.5.0->tensorflow-intel==2.18.0->tensorflow) (0.0.8)\n",
      "Requirement already satisfied: optree in c:\\users\\emmanuel\\anaconda3\\lib\\site-packages (from keras>=3.5.0->tensorflow-intel==2.18.0->tensorflow) (0.14.0)\n",
      "Requirement already satisfied: markdown>=2.6.8 in c:\\users\\emmanuel\\anaconda3\\lib\\site-packages (from tensorboard<2.19,>=2.18->tensorflow-intel==2.18.0->tensorflow) (3.4.1)\n",
      "Requirement already satisfied: tensorboard-data-server<0.8.0,>=0.7.0 in c:\\users\\emmanuel\\anaconda3\\lib\\site-packages (from tensorboard<2.19,>=2.18->tensorflow-intel==2.18.0->tensorflow) (0.7.2)\n",
      "Requirement already satisfied: werkzeug>=1.0.1 in c:\\users\\emmanuel\\anaconda3\\lib\\site-packages (from tensorboard<2.19,>=2.18->tensorflow-intel==2.18.0->tensorflow) (3.0.3)\n",
      "Requirement already satisfied: MarkupSafe>=2.1.1 in c:\\users\\emmanuel\\anaconda3\\lib\\site-packages (from werkzeug>=1.0.1->tensorboard<2.19,>=2.18->tensorflow-intel==2.18.0->tensorflow) (2.1.3)\n",
      "Requirement already satisfied: markdown-it-py>=2.2.0 in c:\\users\\emmanuel\\anaconda3\\lib\\site-packages (from rich->keras>=3.5.0->tensorflow-intel==2.18.0->tensorflow) (2.2.0)\n",
      "Requirement already satisfied: pygments<3.0.0,>=2.13.0 in c:\\users\\emmanuel\\anaconda3\\lib\\site-packages (from rich->keras>=3.5.0->tensorflow-intel==2.18.0->tensorflow) (2.15.1)\n",
      "Requirement already satisfied: mdurl~=0.1 in c:\\users\\emmanuel\\anaconda3\\lib\\site-packages (from markdown-it-py>=2.2.0->rich->keras>=3.5.0->tensorflow-intel==2.18.0->tensorflow) (0.1.0)\n"
     ]
    }
   ],
   "source": [
    "!pip install tensorflow tensorflow_datasets matplotlib numpy"
   ]
  },
  {
   "cell_type": "markdown",
   "id": "c007f0dc-c196-474a-b10a-38ba0d4bbaac",
   "metadata": {},
   "source": [
    "### 1.2 Import Required Libraries"
   ]
  },
  {
   "cell_type": "code",
   "execution_count": 2,
   "id": "8ec2c7a6-b1b3-489b-ac76-e7a41d32cbe5",
   "metadata": {},
   "outputs": [],
   "source": [
    "import math\n",
    "import numpy as np\n",
    "import cv2\n",
    "from PIL import Image\n",
    "import matplotlib.pyplot as plt\n",
    "from collections import Counter\n",
    "import tensorflow as tf\n",
    "import tensorflow.keras.layers as layers\n",
    "import tensorflow_datasets as tfds\n",
    "from tensorflow.keras.callbacks import LearningRateScheduler\n",
    "from tensorflow.keras.initializers import Constant\n",
    "from tensorflow.keras.models import Model"
   ]
  },
  {
   "cell_type": "markdown",
   "id": "951c7b52-fa7f-4b60-b4ad-5d35c60a1e22",
   "metadata": {},
   "source": [
    "## Step 2: Load and Prepare the MNIST Dataset\n",
    "The MNIST dataset contains 70,000 images of handwritten digits (28x28 pixels). We'll load this dataset and normalize the images for better model performance.\n",
    "\n",
    "### 2.1 Load the Dataset"
   ]
  },
  {
   "cell_type": "code",
   "execution_count": 3,
   "id": "b48d63dd-65f5-424d-8a57-400af23cf5d8",
   "metadata": {},
   "outputs": [
    {
     "name": "stdout",
     "output_type": "stream",
     "text": [
      "Number of classes: 10\n",
      "Number of training samples: 48000\n",
      "Number of validation samples: 12000\n",
      "Number of testing samples: 10000\n",
      "Total number of samples: 70000\n"
     ]
    }
   ],
   "source": [
    "# Load MNIST dataset\n",
    "(full_ds_train_data, ds_test_data), info = tfds.load(\n",
    "    name='mnist',\n",
    "    split=['train', 'test'],\n",
    "    with_info=True,\n",
    "    as_supervised=True,\n",
    ")\n",
    "\n",
    "# Split train set into train (80%) and validation (20%)\n",
    "train_size = int(0.8 * info.splits['train'].num_examples)\n",
    "val_size = info.splits['train'].num_examples - train_size\n",
    "\n",
    "ds_train_data = full_ds_train_data.take(train_size)  # First 80% for training\n",
    "ds_val_data = full_ds_train_data.skip(train_size)    # Remaining 20% for validation\n",
    "\n",
    "# Extract dataset information\n",
    "num_classes = info.features['label'].num_classes\n",
    "num_train_samples = train_size  # 80% of original train set\n",
    "num_val_samples = val_size  # 20% of original train set\n",
    "num_test_samples = info.splits['test'].num_examples\n",
    "total_samples = num_train_samples + num_val_samples + num_test_samples\n",
    "\n",
    "# Display information\n",
    "print(f\"Number of classes: {num_classes}\")\n",
    "print(f\"Number of training samples: {num_train_samples}\")\n",
    "print(f\"Number of validation samples: {num_val_samples}\")\n",
    "print(f\"Number of testing samples: {num_test_samples}\")\n",
    "print(f\"Total number of samples: {total_samples}\")\n"
   ]
  },
  {
   "cell_type": "markdown",
   "id": "2d69bb03-0d5e-46a3-8f0e-d2254e5b6810",
   "metadata": {},
   "source": [
    "### 2.2 Plot Class Distribution"
   ]
  },
  {
   "cell_type": "code",
   "execution_count": 4,
   "id": "3e9b33a2-a5dc-4fd9-8973-f82d0e5fdf17",
   "metadata": {},
   "outputs": [
    {
     "data": {
      "image/png": "[encoded data removed]",
      "text/plain": [
       "<Figure size 1800x500 with 3 Axes>"
      ]
     },
     "metadata": {},
     "output_type": "display_data"
    }
   ],
   "source": [
    "# Function to count occurrences of each class\n",
    "def get_class_distribution(dataset):\n",
    "    class_counts = Counter()\n",
    "    for image, label in dataset:\n",
    "        class_counts[int(label.numpy())] += 1\n",
    "    return class_counts\n",
    "\n",
    "# Get class distributions\n",
    "train_class_dist = get_class_distribution(ds_train_data)\n",
    "val_class_dist = get_class_distribution(ds_val_data)\n",
    "test_class_dist = get_class_distribution(ds_test_data)\n",
    "\n",
    "# Plot class distributions\n",
    "fig, ax = plt.subplots(1, 3, figsize=(18, 5))\n",
    "\n",
    "# Training data\n",
    "ax[0].bar(train_class_dist.keys(), train_class_dist.values(), color='blue', alpha=0.7)\n",
    "ax[0].set_title('Training Data Class Distribution')\n",
    "ax[0].set_xlabel('Class Label')\n",
    "ax[0].set_ylabel('Frequency')\n",
    "\n",
    "# Validation data\n",
    "ax[1].bar(val_class_dist.keys(), val_class_dist.values(), color='green', alpha=0.7)\n",
    "ax[1].set_title('Validation Data Class Distribution')\n",
    "ax[1].set_xlabel('Class Label')\n",
    "ax[1].set_ylabel('Frequency')\n",
    "\n",
    "# Test data\n",
    "ax[2].bar(test_class_dist.keys(), test_class_dist.values(), color='red', alpha=0.7)\n",
    "ax[2].set_title('Test Data Class Distribution')\n",
    "ax[2].set_xlabel('Class Label')\n",
    "ax[2].set_ylabel('Frequency')\n",
    "\n",
    "plt.tight_layout()\n",
    "plt.show()\n"
   ]
  },
  {
   "cell_type": "markdown",
   "id": "c03d3f29-e9ca-41d2-b3de-9a7a667d3755",
   "metadata": {},
   "source": [
    "### 2.3 Preprocesses the images\n",
    "Here we converts to float32 and normalizes to prepares the MNIST dataset for efficient training."
   ]
  },
  {
   "cell_type": "code",
   "execution_count": 5,
   "id": "d62d9a39-6ebb-4b95-ad3c-640208a7d9fb",
   "metadata": {},
   "outputs": [],
   "source": [
    "def preprocess(image, label):\n",
    "    image = tf.cast(image, tf.float32)\n",
    "    image = image / 255.0\n",
    "    return image, label\n",
    "\n",
    "AUTOTUNE = tf.data.experimental.AUTOTUNE\n",
    "\n",
    "BATCH_SIZE = 128\n",
    "\n",
    "ds_train = (\n",
    "    ds_train_data\n",
    "    .map(preprocess, num_parallel_calls=AUTOTUNE)\n",
    "    .cache()\n",
    "    .shuffle(info.splits['train'].num_examples)\n",
    "    .batch(BATCH_SIZE)\n",
    "    .prefetch(AUTOTUNE)\n",
    ")\n",
    "\n",
    "ds_val = (\n",
    "    ds_val_data\n",
    "    .map(preprocess, AUTOTUNE)\n",
    "    .batch(BATCH_SIZE)\n",
    "    .cache()\n",
    "    .prefetch(AUTOTUNE)\n",
    ")\n",
    "ds_test = (\n",
    "    ds_test_data\n",
    "    .map(preprocess, AUTOTUNE)\n",
    "    .batch(BATCH_SIZE)\n",
    "    .cache()\n",
    "    .prefetch(AUTOTUNE)\n",
    ")"
   ]
  },
  {
   "cell_type": "markdown",
   "id": "fac8204c-1988-4179-a594-d5c7bc1cbea8",
   "metadata": {},
   "source": [
    "### 2.4 Plot Some Images"
   ]
  },
  {
   "cell_type": "code",
   "execution_count": 6,
   "id": "a6218c8c-de0d-474f-b663-c015aab52a7a",
   "metadata": {},
   "outputs": [
    {
     "data": {
      "image/png": "[encoded data removed]",
      "text/plain": [
       "<Figure size 800x800 with 9 Axes>"
      ]
     },
     "metadata": {},
     "output_type": "display_data"
    }
   ],
   "source": [
    "sample_batch = next(iter(ds_train))\n",
    "images, labels = sample_batch\n",
    "\n",
    "# Plot images in a 3x3 grid\n",
    "fig, axes = plt.subplots(3, 3, figsize=(8, 8))\n",
    "\n",
    "for i, ax in enumerate(axes.flat):\n",
    "    ax.imshow(images[i].numpy().squeeze(), cmap='gray')  # Convert tensor to NumPy and plot\n",
    "    ax.set_title(f\"Label: {labels[i].numpy()}\")\n",
    "    ax.axis('off')  # Hide axes\n",
    "\n",
    "plt.tight_layout()\n",
    "plt.show()"
   ]
  },
  {
   "cell_type": "markdown",
   "id": "6eee2b1d-c286-4798-90b2-35cf28732fd8",
   "metadata": {},
   "source": [
    "## Step 3: Build and Train the Model\n",
    "Now, let’s build a simple neural network model and train it on the MNIST dataset.\n",
    "\n",
    "### 3.1 Define the Model"
   ]
  },
  {
   "cell_type": "code",
   "execution_count": 7,
   "id": "77bc1178-fdee-406f-ba29-2d98c8a3fd64",
   "metadata": {},
   "outputs": [
    {
     "data": {
      "text/html": [
       "<pre style=\"white-space:pre;overflow-x:auto;line-height:normal;font-family:Menlo,'DejaVu Sans Mono',consolas,'Courier New',monospace\"><span style=\"font-weight: bold\">Model: \"functional\"</span>\n",
       "</pre>\n"
      ],
      "text/plain": [
       "\u001b[1mModel: \"functional\"\u001b[0m\n"
      ]
     },
     "metadata": {},
     "output_type": "display_data"
    },
    {
     "data": {
      "text/html": [
       "<pre style=\"white-space:pre;overflow-x:auto;line-height:normal;font-family:Menlo,'DejaVu Sans Mono',consolas,'Courier New',monospace\">┏━━━━━━━━━━━━━━━━━━━━━━━━━━━━━━━━━━━━━━┳━━━━━━━━━━━━━━━━━━━━━━━━━━━━━┳━━━━━━━━━━━━━━━━━┓\n",
       "┃<span style=\"font-weight: bold\"> Layer (type)                         </span>┃<span style=\"font-weight: bold\"> Output Shape                </span>┃<span style=\"font-weight: bold\">         Param # </span>┃\n",
       "┡━━━━━━━━━━━━━━━━━━━━━━━━━━━━━━━━━━━━━━╇━━━━━━━━━━━━━━━━━━━━━━━━━━━━━╇━━━━━━━━━━━━━━━━━┩\n",
       "│ input (<span style=\"color: #0087ff; text-decoration-color: #0087ff\">InputLayer</span>)                   │ (<span style=\"color: #00d7ff; text-decoration-color: #00d7ff\">None</span>, <span style=\"color: #00af00; text-decoration-color: #00af00\">28</span>, <span style=\"color: #00af00; text-decoration-color: #00af00\">28</span>, <span style=\"color: #00af00; text-decoration-color: #00af00\">1</span>)           │               <span style=\"color: #00af00; text-decoration-color: #00af00\">0</span> │\n",
       "├──────────────────────────────────────┼─────────────────────────────┼─────────────────┤\n",
       "│ conv2d (<span style=\"color: #0087ff; text-decoration-color: #0087ff\">Conv2D</span>)                      │ (<span style=\"color: #00d7ff; text-decoration-color: #00d7ff\">None</span>, <span style=\"color: #00af00; text-decoration-color: #00af00\">23</span>, <span style=\"color: #00af00; text-decoration-color: #00af00\">23</span>, <span style=\"color: #00af00; text-decoration-color: #00af00\">24</span>)          │             <span style=\"color: #00af00; text-decoration-color: #00af00\">888</span> │\n",
       "├──────────────────────────────────────┼─────────────────────────────┼─────────────────┤\n",
       "│ batch_normalization                  │ (<span style=\"color: #00d7ff; text-decoration-color: #00d7ff\">None</span>, <span style=\"color: #00af00; text-decoration-color: #00af00\">23</span>, <span style=\"color: #00af00; text-decoration-color: #00af00\">23</span>, <span style=\"color: #00af00; text-decoration-color: #00af00\">24</span>)          │              <span style=\"color: #00af00; text-decoration-color: #00af00\">72</span> │\n",
       "│ (<span style=\"color: #0087ff; text-decoration-color: #0087ff\">BatchNormalization</span>)                 │                             │                 │\n",
       "├──────────────────────────────────────┼─────────────────────────────┼─────────────────┤\n",
       "│ activation (<span style=\"color: #0087ff; text-decoration-color: #0087ff\">Activation</span>)              │ (<span style=\"color: #00d7ff; text-decoration-color: #00d7ff\">None</span>, <span style=\"color: #00af00; text-decoration-color: #00af00\">23</span>, <span style=\"color: #00af00; text-decoration-color: #00af00\">23</span>, <span style=\"color: #00af00; text-decoration-color: #00af00\">24</span>)          │               <span style=\"color: #00af00; text-decoration-color: #00af00\">0</span> │\n",
       "├──────────────────────────────────────┼─────────────────────────────┼─────────────────┤\n",
       "│ dropout (<span style=\"color: #0087ff; text-decoration-color: #0087ff\">Dropout</span>)                    │ (<span style=\"color: #00d7ff; text-decoration-color: #00d7ff\">None</span>, <span style=\"color: #00af00; text-decoration-color: #00af00\">23</span>, <span style=\"color: #00af00; text-decoration-color: #00af00\">23</span>, <span style=\"color: #00af00; text-decoration-color: #00af00\">24</span>)          │               <span style=\"color: #00af00; text-decoration-color: #00af00\">0</span> │\n",
       "├──────────────────────────────────────┼─────────────────────────────┼─────────────────┤\n",
       "│ conv2d_1 (<span style=\"color: #0087ff; text-decoration-color: #0087ff\">Conv2D</span>)                    │ (<span style=\"color: #00d7ff; text-decoration-color: #00d7ff\">None</span>, <span style=\"color: #00af00; text-decoration-color: #00af00\">10</span>, <span style=\"color: #00af00; text-decoration-color: #00af00\">10</span>, <span style=\"color: #00af00; text-decoration-color: #00af00\">48</span>)          │          <span style=\"color: #00af00; text-decoration-color: #00af00\">28,848</span> │\n",
       "├──────────────────────────────────────┼─────────────────────────────┼─────────────────┤\n",
       "│ batch_normalization_1                │ (<span style=\"color: #00d7ff; text-decoration-color: #00d7ff\">None</span>, <span style=\"color: #00af00; text-decoration-color: #00af00\">10</span>, <span style=\"color: #00af00; text-decoration-color: #00af00\">10</span>, <span style=\"color: #00af00; text-decoration-color: #00af00\">48</span>)          │             <span style=\"color: #00af00; text-decoration-color: #00af00\">144</span> │\n",
       "│ (<span style=\"color: #0087ff; text-decoration-color: #0087ff\">BatchNormalization</span>)                 │                             │                 │\n",
       "├──────────────────────────────────────┼─────────────────────────────┼─────────────────┤\n",
       "│ activation_1 (<span style=\"color: #0087ff; text-decoration-color: #0087ff\">Activation</span>)            │ (<span style=\"color: #00d7ff; text-decoration-color: #00d7ff\">None</span>, <span style=\"color: #00af00; text-decoration-color: #00af00\">10</span>, <span style=\"color: #00af00; text-decoration-color: #00af00\">10</span>, <span style=\"color: #00af00; text-decoration-color: #00af00\">48</span>)          │               <span style=\"color: #00af00; text-decoration-color: #00af00\">0</span> │\n",
       "├──────────────────────────────────────┼─────────────────────────────┼─────────────────┤\n",
       "│ dropout_1 (<span style=\"color: #0087ff; text-decoration-color: #0087ff\">Dropout</span>)                  │ (<span style=\"color: #00d7ff; text-decoration-color: #00d7ff\">None</span>, <span style=\"color: #00af00; text-decoration-color: #00af00\">10</span>, <span style=\"color: #00af00; text-decoration-color: #00af00\">10</span>, <span style=\"color: #00af00; text-decoration-color: #00af00\">48</span>)          │               <span style=\"color: #00af00; text-decoration-color: #00af00\">0</span> │\n",
       "├──────────────────────────────────────┼─────────────────────────────┼─────────────────┤\n",
       "│ conv2d_2 (<span style=\"color: #0087ff; text-decoration-color: #0087ff\">Conv2D</span>)                    │ (<span style=\"color: #00d7ff; text-decoration-color: #00d7ff\">None</span>, <span style=\"color: #00af00; text-decoration-color: #00af00\">4</span>, <span style=\"color: #00af00; text-decoration-color: #00af00\">4</span>, <span style=\"color: #00af00; text-decoration-color: #00af00\">64</span>)            │          <span style=\"color: #00af00; text-decoration-color: #00af00\">49,216</span> │\n",
       "├──────────────────────────────────────┼─────────────────────────────┼─────────────────┤\n",
       "│ batch_normalization_2                │ (<span style=\"color: #00d7ff; text-decoration-color: #00d7ff\">None</span>, <span style=\"color: #00af00; text-decoration-color: #00af00\">4</span>, <span style=\"color: #00af00; text-decoration-color: #00af00\">4</span>, <span style=\"color: #00af00; text-decoration-color: #00af00\">64</span>)            │             <span style=\"color: #00af00; text-decoration-color: #00af00\">192</span> │\n",
       "│ (<span style=\"color: #0087ff; text-decoration-color: #0087ff\">BatchNormalization</span>)                 │                             │                 │\n",
       "├──────────────────────────────────────┼─────────────────────────────┼─────────────────┤\n",
       "│ activation_2 (<span style=\"color: #0087ff; text-decoration-color: #0087ff\">Activation</span>)            │ (<span style=\"color: #00d7ff; text-decoration-color: #00d7ff\">None</span>, <span style=\"color: #00af00; text-decoration-color: #00af00\">4</span>, <span style=\"color: #00af00; text-decoration-color: #00af00\">4</span>, <span style=\"color: #00af00; text-decoration-color: #00af00\">64</span>)            │               <span style=\"color: #00af00; text-decoration-color: #00af00\">0</span> │\n",
       "├──────────────────────────────────────┼─────────────────────────────┼─────────────────┤\n",
       "│ dropout_2 (<span style=\"color: #0087ff; text-decoration-color: #0087ff\">Dropout</span>)                  │ (<span style=\"color: #00d7ff; text-decoration-color: #00d7ff\">None</span>, <span style=\"color: #00af00; text-decoration-color: #00af00\">4</span>, <span style=\"color: #00af00; text-decoration-color: #00af00\">4</span>, <span style=\"color: #00af00; text-decoration-color: #00af00\">64</span>)            │               <span style=\"color: #00af00; text-decoration-color: #00af00\">0</span> │\n",
       "├──────────────────────────────────────┼─────────────────────────────┼─────────────────┤\n",
       "│ flatten (<span style=\"color: #0087ff; text-decoration-color: #0087ff\">Flatten</span>)                    │ (<span style=\"color: #00d7ff; text-decoration-color: #00d7ff\">None</span>, <span style=\"color: #00af00; text-decoration-color: #00af00\">1024</span>)                │               <span style=\"color: #00af00; text-decoration-color: #00af00\">0</span> │\n",
       "├──────────────────────────────────────┼─────────────────────────────┼─────────────────┤\n",
       "│ dense (<span style=\"color: #0087ff; text-decoration-color: #0087ff\">Dense</span>)                        │ (<span style=\"color: #00d7ff; text-decoration-color: #00d7ff\">None</span>, <span style=\"color: #00af00; text-decoration-color: #00af00\">200</span>)                 │         <span style=\"color: #00af00; text-decoration-color: #00af00\">205,000</span> │\n",
       "├──────────────────────────────────────┼─────────────────────────────┼─────────────────┤\n",
       "│ batch_normalization_3                │ (<span style=\"color: #00d7ff; text-decoration-color: #00d7ff\">None</span>, <span style=\"color: #00af00; text-decoration-color: #00af00\">200</span>)                 │             <span style=\"color: #00af00; text-decoration-color: #00af00\">600</span> │\n",
       "│ (<span style=\"color: #0087ff; text-decoration-color: #0087ff\">BatchNormalization</span>)                 │                             │                 │\n",
       "├──────────────────────────────────────┼─────────────────────────────┼─────────────────┤\n",
       "│ activation_3 (<span style=\"color: #0087ff; text-decoration-color: #0087ff\">Activation</span>)            │ (<span style=\"color: #00d7ff; text-decoration-color: #00d7ff\">None</span>, <span style=\"color: #00af00; text-decoration-color: #00af00\">200</span>)                 │               <span style=\"color: #00af00; text-decoration-color: #00af00\">0</span> │\n",
       "├──────────────────────────────────────┼─────────────────────────────┼─────────────────┤\n",
       "│ dropout_3 (<span style=\"color: #0087ff; text-decoration-color: #0087ff\">Dropout</span>)                  │ (<span style=\"color: #00d7ff; text-decoration-color: #00d7ff\">None</span>, <span style=\"color: #00af00; text-decoration-color: #00af00\">200</span>)                 │               <span style=\"color: #00af00; text-decoration-color: #00af00\">0</span> │\n",
       "├──────────────────────────────────────┼─────────────────────────────┼─────────────────┤\n",
       "│ output (<span style=\"color: #0087ff; text-decoration-color: #0087ff\">Dense</span>)                       │ (<span style=\"color: #00d7ff; text-decoration-color: #00d7ff\">None</span>, <span style=\"color: #00af00; text-decoration-color: #00af00\">10</span>)                  │           <span style=\"color: #00af00; text-decoration-color: #00af00\">2,010</span> │\n",
       "└──────────────────────────────────────┴─────────────────────────────┴─────────────────┘\n",
       "</pre>\n"
      ],
      "text/plain": [
       "┏━━━━━━━━━━━━━━━━━━━━━━━━━━━━━━━━━━━━━━┳━━━━━━━━━━━━━━━━━━━━━━━━━━━━━┳━━━━━━━━━━━━━━━━━┓\n",
       "┃\u001b[1m \u001b[0m\u001b[1mLayer (type)                        \u001b[0m\u001b[1m \u001b[0m┃\u001b[1m \u001b[0m\u001b[1mOutput Shape               \u001b[0m\u001b[1m \u001b[0m┃\u001b[1m \u001b[0m\u001b[1m        Param #\u001b[0m\u001b[1m \u001b[0m┃\n",
       "┡━━━━━━━━━━━━━━━━━━━━━━━━━━━━━━━━━━━━━━╇━━━━━━━━━━━━━━━━━━━━━━━━━━━━━╇━━━━━━━━━━━━━━━━━┩\n",
       "│ input (\u001b[38;5;33mInputLayer\u001b[0m)                   │ (\u001b[38;5;45mNone\u001b[0m, \u001b[38;5;34m28\u001b[0m, \u001b[38;5;34m28\u001b[0m, \u001b[38;5;34m1\u001b[0m)           │               \u001b[38;5;34m0\u001b[0m │\n",
       "├──────────────────────────────────────┼─────────────────────────────┼─────────────────┤\n",
       "│ conv2d (\u001b[38;5;33mConv2D\u001b[0m)                      │ (\u001b[38;5;45mNone\u001b[0m, \u001b[38;5;34m23\u001b[0m, \u001b[38;5;34m23\u001b[0m, \u001b[38;5;34m24\u001b[0m)          │             \u001b[38;5;34m888\u001b[0m │\n",
       "├──────────────────────────────────────┼─────────────────────────────┼─────────────────┤\n",
       "│ batch_normalization                  │ (\u001b[38;5;45mNone\u001b[0m, \u001b[38;5;34m23\u001b[0m, \u001b[38;5;34m23\u001b[0m, \u001b[38;5;34m24\u001b[0m)          │              \u001b[38;5;34m72\u001b[0m │\n",
       "│ (\u001b[38;5;33mBatchNormalization\u001b[0m)                 │                             │                 │\n",
       "├──────────────────────────────────────┼─────────────────────────────┼─────────────────┤\n",
       "│ activation (\u001b[38;5;33mActivation\u001b[0m)              │ (\u001b[38;5;45mNone\u001b[0m, \u001b[38;5;34m23\u001b[0m, \u001b[38;5;34m23\u001b[0m, \u001b[38;5;34m24\u001b[0m)          │               \u001b[38;5;34m0\u001b[0m │\n",
       "├──────────────────────────────────────┼─────────────────────────────┼─────────────────┤\n",
       "│ dropout (\u001b[38;5;33mDropout\u001b[0m)                    │ (\u001b[38;5;45mNone\u001b[0m, \u001b[38;5;34m23\u001b[0m, \u001b[38;5;34m23\u001b[0m, \u001b[38;5;34m24\u001b[0m)          │               \u001b[38;5;34m0\u001b[0m │\n",
       "├──────────────────────────────────────┼─────────────────────────────┼─────────────────┤\n",
       "│ conv2d_1 (\u001b[38;5;33mConv2D\u001b[0m)                    │ (\u001b[38;5;45mNone\u001b[0m, \u001b[38;5;34m10\u001b[0m, \u001b[38;5;34m10\u001b[0m, \u001b[38;5;34m48\u001b[0m)          │          \u001b[38;5;34m28,848\u001b[0m │\n",
       "├──────────────────────────────────────┼─────────────────────────────┼─────────────────┤\n",
       "│ batch_normalization_1                │ (\u001b[38;5;45mNone\u001b[0m, \u001b[38;5;34m10\u001b[0m, \u001b[38;5;34m10\u001b[0m, \u001b[38;5;34m48\u001b[0m)          │             \u001b[38;5;34m144\u001b[0m │\n",
       "│ (\u001b[38;5;33mBatchNormalization\u001b[0m)                 │                             │                 │\n",
       "├──────────────────────────────────────┼─────────────────────────────┼─────────────────┤\n",
       "│ activation_1 (\u001b[38;5;33mActivation\u001b[0m)            │ (\u001b[38;5;45mNone\u001b[0m, \u001b[38;5;34m10\u001b[0m, \u001b[38;5;34m10\u001b[0m, \u001b[38;5;34m48\u001b[0m)          │               \u001b[38;5;34m0\u001b[0m │\n",
       "├──────────────────────────────────────┼─────────────────────────────┼─────────────────┤\n",
       "│ dropout_1 (\u001b[38;5;33mDropout\u001b[0m)                  │ (\u001b[38;5;45mNone\u001b[0m, \u001b[38;5;34m10\u001b[0m, \u001b[38;5;34m10\u001b[0m, \u001b[38;5;34m48\u001b[0m)          │               \u001b[38;5;34m0\u001b[0m │\n",
       "├──────────────────────────────────────┼─────────────────────────────┼─────────────────┤\n",
       "│ conv2d_2 (\u001b[38;5;33mConv2D\u001b[0m)                    │ (\u001b[38;5;45mNone\u001b[0m, \u001b[38;5;34m4\u001b[0m, \u001b[38;5;34m4\u001b[0m, \u001b[38;5;34m64\u001b[0m)            │          \u001b[38;5;34m49,216\u001b[0m │\n",
       "├──────────────────────────────────────┼─────────────────────────────┼─────────────────┤\n",
       "│ batch_normalization_2                │ (\u001b[38;5;45mNone\u001b[0m, \u001b[38;5;34m4\u001b[0m, \u001b[38;5;34m4\u001b[0m, \u001b[38;5;34m64\u001b[0m)            │             \u001b[38;5;34m192\u001b[0m │\n",
       "│ (\u001b[38;5;33mBatchNormalization\u001b[0m)                 │                             │                 │\n",
       "├──────────────────────────────────────┼─────────────────────────────┼─────────────────┤\n",
       "│ activation_2 (\u001b[38;5;33mActivation\u001b[0m)            │ (\u001b[38;5;45mNone\u001b[0m, \u001b[38;5;34m4\u001b[0m, \u001b[38;5;34m4\u001b[0m, \u001b[38;5;34m64\u001b[0m)            │               \u001b[38;5;34m0\u001b[0m │\n",
       "├──────────────────────────────────────┼─────────────────────────────┼─────────────────┤\n",
       "│ dropout_2 (\u001b[38;5;33mDropout\u001b[0m)                  │ (\u001b[38;5;45mNone\u001b[0m, \u001b[38;5;34m4\u001b[0m, \u001b[38;5;34m4\u001b[0m, \u001b[38;5;34m64\u001b[0m)            │               \u001b[38;5;34m0\u001b[0m │\n",
       "├──────────────────────────────────────┼─────────────────────────────┼─────────────────┤\n",
       "│ flatten (\u001b[38;5;33mFlatten\u001b[0m)                    │ (\u001b[38;5;45mNone\u001b[0m, \u001b[38;5;34m1024\u001b[0m)                │               \u001b[38;5;34m0\u001b[0m │\n",
       "├──────────────────────────────────────┼─────────────────────────────┼─────────────────┤\n",
       "│ dense (\u001b[38;5;33mDense\u001b[0m)                        │ (\u001b[38;5;45mNone\u001b[0m, \u001b[38;5;34m200\u001b[0m)                 │         \u001b[38;5;34m205,000\u001b[0m │\n",
       "├──────────────────────────────────────┼─────────────────────────────┼─────────────────┤\n",
       "│ batch_normalization_3                │ (\u001b[38;5;45mNone\u001b[0m, \u001b[38;5;34m200\u001b[0m)                 │             \u001b[38;5;34m600\u001b[0m │\n",
       "│ (\u001b[38;5;33mBatchNormalization\u001b[0m)                 │                             │                 │\n",
       "├──────────────────────────────────────┼─────────────────────────────┼─────────────────┤\n",
       "│ activation_3 (\u001b[38;5;33mActivation\u001b[0m)            │ (\u001b[38;5;45mNone\u001b[0m, \u001b[38;5;34m200\u001b[0m)                 │               \u001b[38;5;34m0\u001b[0m │\n",
       "├──────────────────────────────────────┼─────────────────────────────┼─────────────────┤\n",
       "│ dropout_3 (\u001b[38;5;33mDropout\u001b[0m)                  │ (\u001b[38;5;45mNone\u001b[0m, \u001b[38;5;34m200\u001b[0m)                 │               \u001b[38;5;34m0\u001b[0m │\n",
       "├──────────────────────────────────────┼─────────────────────────────┼─────────────────┤\n",
       "│ output (\u001b[38;5;33mDense\u001b[0m)                       │ (\u001b[38;5;45mNone\u001b[0m, \u001b[38;5;34m10\u001b[0m)                  │           \u001b[38;5;34m2,010\u001b[0m │\n",
       "└──────────────────────────────────────┴─────────────────────────────┴─────────────────┘\n"
      ]
     },
     "metadata": {},
     "output_type": "display_data"
    },
    {
     "data": {
      "text/html": [
       "<pre style=\"white-space:pre;overflow-x:auto;line-height:normal;font-family:Menlo,'DejaVu Sans Mono',consolas,'Courier New',monospace\"><span style=\"font-weight: bold\"> Total params: </span><span style=\"color: #00af00; text-decoration-color: #00af00\">286,970</span> (1.09 MB)\n",
       "</pre>\n"
      ],
      "text/plain": [
       "\u001b[1m Total params: \u001b[0m\u001b[38;5;34m286,970\u001b[0m (1.09 MB)\n"
      ]
     },
     "metadata": {},
     "output_type": "display_data"
    },
    {
     "data": {
      "text/html": [
       "<pre style=\"white-space:pre;overflow-x:auto;line-height:normal;font-family:Menlo,'DejaVu Sans Mono',consolas,'Courier New',monospace\"><span style=\"font-weight: bold\"> Trainable params: </span><span style=\"color: #00af00; text-decoration-color: #00af00\">286,298</span> (1.09 MB)\n",
       "</pre>\n"
      ],
      "text/plain": [
       "\u001b[1m Trainable params: \u001b[0m\u001b[38;5;34m286,298\u001b[0m (1.09 MB)\n"
      ]
     },
     "metadata": {},
     "output_type": "display_data"
    },
    {
     "data": {
      "text/html": [
       "<pre style=\"white-space:pre;overflow-x:auto;line-height:normal;font-family:Menlo,'DejaVu Sans Mono',consolas,'Courier New',monospace\"><span style=\"font-weight: bold\"> Non-trainable params: </span><span style=\"color: #00af00; text-decoration-color: #00af00\">672</span> (2.62 KB)\n",
       "</pre>\n"
      ],
      "text/plain": [
       "\u001b[1m Non-trainable params: \u001b[0m\u001b[38;5;34m672\u001b[0m (2.62 KB)\n"
      ]
     },
     "metadata": {},
     "output_type": "display_data"
    }
   ],
   "source": [
    "inputs = layers.Input(shape=(28, 28, 1), name='input')\n",
    "\n",
    "x = layers.Conv2D(24, kernel_size=(6, 6), strides=1)(inputs)\n",
    "x = layers.BatchNormalization(scale=False, beta_initializer=Constant(0.01))(x)\n",
    "x = layers.Activation('relu')(x)\n",
    "x = layers.Dropout(rate=0.25)(x)\n",
    "\n",
    "x = layers.Conv2D(48, kernel_size=(5, 5), strides=2)(x)\n",
    "x = layers.BatchNormalization(scale=False, beta_initializer=Constant(0.01))(x)\n",
    "x = layers.Activation('relu')(x)\n",
    "x = layers.Dropout(rate=0.25)(x)\n",
    "\n",
    "x = layers.Conv2D(64, kernel_size=(4, 4), strides=2)(x)\n",
    "x = layers.BatchNormalization(scale=False, beta_initializer=Constant(0.01))(x)\n",
    "x = layers.Activation('relu')(x)\n",
    "x = layers.Dropout(rate=0.25)(x)\n",
    "\n",
    "x = layers.Flatten()(x)\n",
    "x = layers.Dense(200)(x)\n",
    "x = layers.BatchNormalization(scale=False, beta_initializer=Constant(0.01))(x)\n",
    "x = layers.Activation('relu')(x)\n",
    "x = layers.Dropout(rate=0.25)(x)\n",
    "\n",
    "predications = layers.Dense(num_classes, activation='softmax', name='output')(x)\n",
    "\n",
    "model = Model(inputs=inputs, outputs=predications)\n",
    "\n",
    "# Compile the model\n",
    "model.compile(loss='sparse_categorical_crossentropy', optimizer='adam', metrics=['accuracy'])\n",
    "\n",
    "#Model Summary\n",
    "model.summary()"
   ]
  },
  {
   "cell_type": "markdown",
   "id": "90acc326-b0e6-438c-bf90-0a359024e3b9",
   "metadata": {},
   "source": [
    "### 3.2 Training The Model"
   ]
  },
  {
   "cell_type": "code",
   "execution_count": null,
   "id": "8ef0a4c0-f0eb-4f34-b24f-d92687944bba",
   "metadata": {},
   "outputs": [
    {
     "name": "stdout",
     "output_type": "stream",
     "text": [
      "\n",
      "Epoch 1: LearningRateScheduler setting learning rate to 0.0201.\n",
      "Epoch 1/20\n",
      "\u001b[1m375/375\u001b[0m \u001b[32m━━━━━━━━━━━━━━━━━━━━\u001b[0m\u001b[37m\u001b[0m \u001b[1m35s\u001b[0m 75ms/step - accuracy: 0.9030 - loss: 0.3084 - val_accuracy: 0.9793 - val_loss: 0.0675 - learning_rate: 0.0201\n",
      "\n",
      "Epoch 2: LearningRateScheduler setting learning rate to 0.014430626211475785.\n",
      "Epoch 2/20\n",
      "\u001b[1m375/375\u001b[0m \u001b[32m━━━━━━━━━━━━━━━━━━━━\u001b[0m\u001b[37m\u001b[0m \u001b[1m28s\u001b[0m 75ms/step - accuracy: 0.9795 - loss: 0.0690 - val_accuracy: 0.9789 - val_loss: 0.0713 - learning_rate: 0.0144\n",
      "\n",
      "Epoch 3: LearningRateScheduler setting learning rate to 0.01036834238065184.\n",
      "Epoch 3/20\n",
      "\u001b[1m375/375\u001b[0m \u001b[32m━━━━━━━━━━━━━━━━━━━━\u001b[0m\u001b[37m\u001b[0m \u001b[1m29s\u001b[0m 78ms/step - accuracy: 0.9854 - loss: 0.0504 - val_accuracy: 0.9864 - val_loss: 0.0447 - learning_rate: 0.0104\n",
      "\n",
      "Epoch 4: LearningRateScheduler setting learning rate to 0.007457588823428847.\n",
      "Epoch 4/20\n",
      "\u001b[1m375/375\u001b[0m \u001b[32m━━━━━━━━━━━━━━━━━━━━\u001b[0m\u001b[37m\u001b[0m \u001b[1m27s\u001b[0m 72ms/step - accuracy: 0.9894 - loss: 0.0336 - val_accuracy: 0.9923 - val_loss: 0.0257 - learning_rate: 0.0075\n",
      "\n",
      "Epoch 5: LearningRateScheduler setting learning rate to 0.005371942762314537.\n",
      "Epoch 5/20\n",
      "\u001b[1m375/375\u001b[0m \u001b[32m━━━━━━━━━━━━━━━━━━━━\u001b[0m\u001b[37m\u001b[0m \u001b[1m25s\u001b[0m 68ms/step - accuracy: 0.9912 - loss: 0.0280 - val_accuracy: 0.9903 - val_loss: 0.0280 - learning_rate: 0.0054\n",
      "\n",
      "Epoch 6: LearningRateScheduler setting learning rate to 0.0038775120567512366.\n",
      "Epoch 6/20\n",
      "\u001b[1m375/375\u001b[0m \u001b[32m━━━━━━━━━━━━━━━━━━━━\u001b[0m\u001b[37m\u001b[0m \u001b[1m28s\u001b[0m 75ms/step - accuracy: 0.9932 - loss: 0.0227 - val_accuracy: 0.9919 - val_loss: 0.0250 - learning_rate: 0.0039\n",
      "\n",
      "Epoch 7: LearningRateScheduler setting learning rate to 0.002806705664732254.\n",
      "Epoch 7/20\n",
      "\u001b[1m375/375\u001b[0m \u001b[32m━━━━━━━━━━━━━━━━━━━━\u001b[0m\u001b[37m\u001b[0m \u001b[1m27s\u001b[0m 73ms/step - accuracy: 0.9936 - loss: 0.0208 - val_accuracy: 0.9923 - val_loss: 0.0242 - learning_rate: 0.0028\n",
      "\n",
      "Epoch 8: LearningRateScheduler setting learning rate to 0.002039439357288101.\n",
      "Epoch 8/20\n",
      "\u001b[1m375/375\u001b[0m \u001b[32m━━━━━━━━━━━━━━━━━━━━\u001b[0m\u001b[37m\u001b[0m \u001b[1m28s\u001b[0m 75ms/step - accuracy: 0.9947 - loss: 0.0175 - val_accuracy: 0.9948 - val_loss: 0.0190 - learning_rate: 0.0020\n",
      "\n",
      "Epoch 9: LearningRateScheduler setting learning rate to 0.0014896690244560313.\n",
      "Epoch 9/20\n",
      "\u001b[1m375/375\u001b[0m \u001b[32m━━━━━━━━━━━━━━━━━━━━\u001b[0m\u001b[37m\u001b[0m \u001b[1m29s\u001b[0m 76ms/step - accuracy: 0.9966 - loss: 0.0118 - val_accuracy: 0.9944 - val_loss: 0.0184 - learning_rate: 0.0015\n",
      "\n",
      "Epoch 10: LearningRateScheduler setting learning rate to 0.001095741367357279.\n",
      "Epoch 10/20\n",
      "\u001b[1m375/375\u001b[0m \u001b[32m━━━━━━━━━━━━━━━━━━━━\u001b[0m\u001b[37m\u001b[0m \u001b[1m78s\u001b[0m 209ms/step - accuracy: 0.9959 - loss: 0.0141 - val_accuracy: 0.9948 - val_loss: 0.0174 - learning_rate: 0.0011\n",
      "\n",
      "Epoch 11: LearningRateScheduler setting learning rate to 0.000813479866945048.\n",
      "Epoch 11/20\n",
      "\u001b[1m375/375\u001b[0m \u001b[32m━━━━━━━━━━━━━━━━━━━━\u001b[0m\u001b[37m\u001b[0m \u001b[1m26s\u001b[0m 69ms/step - accuracy: 0.9958 - loss: 0.0131 - val_accuracy: 0.9947 - val_loss: 0.0183 - learning_rate: 8.1348e-04\n",
      "\n",
      "Epoch 12: LearningRateScheduler setting learning rate to 0.0006112306641301482.\n",
      "Epoch 12/20\n",
      "\u001b[1m375/375\u001b[0m \u001b[32m━━━━━━━━━━━━━━━━━━━━\u001b[0m\u001b[37m\u001b[0m \u001b[1m22s\u001b[0m 59ms/step - accuracy: 0.9967 - loss: 0.0119 - val_accuracy: 0.9944 - val_loss: 0.0179 - learning_rate: 6.1123e-04\n",
      "\n",
      "Epoch 13: LearningRateScheduler setting learning rate to 0.00046631277777468366.\n",
      "Epoch 13/20\n",
      "\u001b[1m375/375\u001b[0m \u001b[32m━━━━━━━━━━━━━━━━━━━━\u001b[0m\u001b[37m\u001b[0m \u001b[1m23s\u001b[0m 62ms/step - accuracy: 0.9964 - loss: 0.0114 - val_accuracy: 0.9948 - val_loss: 0.0173 - learning_rate: 4.6631e-04\n",
      "\n",
      "Epoch 14: LearningRateScheduler setting learning rate to 0.00036247457473881936.\n",
      "Epoch 14/20\n",
      "\u001b[1m375/375\u001b[0m \u001b[32m━━━━━━━━━━━━━━━━━━━━\u001b[0m\u001b[37m\u001b[0m \u001b[1m33s\u001b[0m 88ms/step - accuracy: 0.9966 - loss: 0.0103 - val_accuracy: 0.9950 - val_loss: 0.0176 - learning_rate: 3.6247e-04\n",
      "\n",
      "Epoch 15: LearningRateScheduler setting learning rate to 0.00028807125102990415.\n",
      "Epoch 15/20\n",
      "\u001b[1m375/375\u001b[0m \u001b[32m━━━━━━━━━━━━━━━━━━━━\u001b[0m\u001b[37m\u001b[0m \u001b[1m33s\u001b[0m 88ms/step - accuracy: 0.9966 - loss: 0.0107 - val_accuracy: 0.9947 - val_loss: 0.0179 - learning_rate: 2.8807e-04\n",
      "\n",
      "Epoch 16: LearningRateScheduler setting learning rate to 0.0002347589399817094.\n",
      "Epoch 16/20\n",
      "\u001b[1m375/375\u001b[0m \u001b[32m━━━━━━━━━━━━━━━━━━━━\u001b[0m\u001b[37m\u001b[0m \u001b[1m34s\u001b[0m 89ms/step - accuracy: 0.9971 - loss: 0.0100 - val_accuracy: 0.9949 - val_loss: 0.0172 - learning_rate: 2.3476e-04\n",
      "\n",
      "Epoch 17: LearningRateScheduler setting learning rate to 0.00019655899987662886.\n",
      "Epoch 17/20\n",
      "\u001b[1m375/375\u001b[0m \u001b[32m━━━━━━━━━━━━━━━━━━━━\u001b[0m\u001b[37m\u001b[0m \u001b[1m33s\u001b[0m 88ms/step - accuracy: 0.9972 - loss: 0.0099 - val_accuracy: 0.9948 - val_loss: 0.0174 - learning_rate: 1.9656e-04\n",
      "\n",
      "Epoch 18: LearningRateScheduler setting learning rate to 0.0001691875467292952.\n",
      "Epoch 18/20\n",
      "\u001b[1m375/375\u001b[0m \u001b[32m━━━━━━━━━━━━━━━━━━━━\u001b[0m\u001b[37m\u001b[0m \u001b[1m33s\u001b[0m 89ms/step - accuracy: 0.9969 - loss: 0.0101 - val_accuracy: 0.9948 - val_loss: 0.0172 - learning_rate: 1.6919e-04\n",
      "\n",
      "Epoch 19: LearningRateScheduler setting learning rate to 0.0001495750435333272.\n",
      "Epoch 19/20\n",
      "\u001b[1m236/375\u001b[0m \u001b[32m━━━━━━━━━━━━\u001b[0m\u001b[37m━━━━━━━━\u001b[0m \u001b[1m12s\u001b[0m 88ms/step - accuracy: 0.9970 - loss: 0.0090"
     ]
    }
   ],
   "source": [
    "lr_decay = lambda epoch: 0.0001 + 0.02 * math.pow(1.0 / math.e, epoch / 3.0)\n",
    "decay_callback = LearningRateScheduler(lr_decay, verbose=1)\n",
    "\n",
    "model_history = model.fit(\n",
    "    ds_train,\n",
    "    epochs=20,\n",
    "    validation_data=ds_val,\n",
    "    callbacks=[decay_callback],\n",
    "    verbose=1\n",
    ")"
   ]
  },
  {
   "cell_type": "markdown",
   "id": "0d9eb50b-0580-4a9b-a133-a963017b1fde",
   "metadata": {},
   "source": [
    "### 3.3 Evaluate the trained model"
   ]
  },
  {
   "cell_type": "code",
   "execution_count": null,
   "id": "c55be572-5615-4c16-8099-d2fe254b2596",
   "metadata": {},
   "outputs": [],
   "source": [
    "fig, ax = plt.subplots(1, 2, figsize=(10, 5))\n",
    "\n",
    "# Accuracy\n",
    "ax[0].plot(model_history.history['accuracy'])\n",
    "ax[0].plot(model_history.history['val_accuracy'])\n",
    "ax[0].set_title('model accuracy')\n",
    "ax[0].set_xlabel('epoch')\n",
    "ax[0].set_ylabel('accuracy')\n",
    "ax[0].legend(['train', 'test'])\n",
    "\n",
    "# Sparse Categorical Crossentropy\n",
    "ax[1].plot(model_history.history['loss'])\n",
    "ax[1].plot(model_history.history['val_loss'])\n",
    "ax[1].set_title('Sparse Categorical Crossentropy')\n",
    "ax[1].set_xlabel('epoch')\n",
    "ax[1].set_ylabel('loss')\n",
    "ax[1].legend(['train', 'test'])\n",
    "\n",
    "plt.tight_layout()\n",
    "plt.show()"
   ]
  },
  {
   "cell_type": "markdown",
   "id": "37e644ec-c1bc-4b82-9966-8d9dbfb9b5fe",
   "metadata": {},
   "source": [
    "### 3.4 Evaluate the Model On Test Data"
   ]
  },
  {
   "cell_type": "code",
   "execution_count": null,
   "id": "2d5bef7c-5485-4578-8df1-b9bfb7f4c534",
   "metadata": {},
   "outputs": [],
   "source": [
    "test_loss, test_acc = model.evaluate(ds_test, verbose=2)\n",
    "\n",
    "print(f\"Test Loss: {test_loss}\")\n",
    "print(f\"Test Accuracy: {test_acc}\")"
   ]
  },
  {
   "cell_type": "markdown",
   "id": "575b4560-aa13-4f8a-a86a-1a785073b580",
   "metadata": {},
   "source": [
    "## Step 4: Convert the Model to TensorFlow Lite Format\n",
    "To run the model on mobile, we need to convert it to TensorFlow Lite format.\n",
    "\n",
    "### 4.1 Convert the Model\n",
    "TensorFlow Lite models are optimized for performance on mobile and embedded devices. This conversion allows the trained model to run efficiently on an Android device."
   ]
  },
  {
   "cell_type": "code",
   "execution_count": null,
   "id": "28b9ea99-5277-48de-9b47-365867aefb18",
   "metadata": {},
   "outputs": [],
   "source": [
    "converter = tf.lite.TFLiteConverter.from_keras_model(model)\n",
    "tflite_model = converter.convert()\n",
    "\n",
    "# Save the TFLite model\n",
    "with open('model/mnist_digit_classifier.tflite', 'wb') as f:\n",
    "    f.write(tflite_model)"
   ]
  },
  {
   "cell_type": "markdown",
   "id": "079f0719-f176-4592-a287-ab71dff085ed",
   "metadata": {},
   "source": [
    "### 4.2 Download Model(If you are using colab)"
   ]
  },
  {
   "cell_type": "code",
   "execution_count": null,
   "id": "59d1ce6b-d231-4b58-9290-8dd6bfc5919d",
   "metadata": {},
   "outputs": [],
   "source": [
    "try:\n",
    "    from google.colab import files\n",
    "    files.download('model/mnist_digit_classifier.tflite')\n",
    "except:\n",
    "    print(\"Skip downloading\")"
   ]
  },
  {
   "cell_type": "markdown",
   "id": "daac7cff-332c-4f43-a71e-f89a5911ed38",
   "metadata": {},
   "source": [
    "## Step 5: Test the TensorFlow Lite Model\n",
    "### 5.1 Test the Model’s Predictions\n",
    "You can test your model’s predictions with a few examples.\n",
    "#### 5.1.1 Prediction Using Random Image In Test dataset\n"
   ]
  },
  {
   "cell_type": "code",
   "execution_count": null,
   "id": "9eb718a8-4f08-449f-8dfd-1ca7b22b02cd",
   "metadata": {},
   "outputs": [],
   "source": [
    "interpreter = tf.lite.Interpreter(model_path=\"model/mnist_digit_classifier.tflite\")\n",
    "interpreter.allocate_tensors()\n",
    "\n",
    "input_details = interpreter.get_input_details()\n",
    "output_details = interpreter.get_output_details()\n",
    "\n",
    "print(\"Input Details:\", input_details)\n",
    "print(\"Output Details:\", output_details)\n"
   ]
  },
  {
   "cell_type": "code",
   "execution_count": null,
   "id": "0ecf6271-18d6-45c2-a61f-ff4f4a66a528",
   "metadata": {},
   "outputs": [],
   "source": [
    "sample_batch = next(iter(ds_test))\n",
    "images, labels = sample_batch\n",
    "image = images[1].numpy().squeeze()\n",
    "label = labels[1].numpy()\n",
    "\n",
    "plt.imshow(image, cmap='gray')  # Convert tensor to NumPy and plot\n",
    "plt.title(f\"Label: {label}\")\n",
    "plt.axis('off') \n",
    "plt.tight_layout()\n",
    "plt.show()\n",
    "\n",
    "# Add batch dimension and reshape (e.g., for MNIST it should be (1, 28, 28, 1))\n",
    "image = np.expand_dims(image, axis=0)  # Add batch dimension\n",
    "image = np.expand_dims(image, axis=-1)  # Add channel dimension if needed\n",
    "\n",
    "interpreter.set_tensor(input_details[0]['index'], image)\n",
    "interpreter.invoke()\n",
    "\n",
    "# Get the output\n",
    "output = interpreter.get_tensor(output_details[0]['index'])\n",
    "\n",
    "# Get the predicted class\n",
    "predicted_class = np.argmax(output)\n",
    "print(\"Predicted Class:\", predicted_class)\n",
    "print(\"Confidence:\",output[0][predicted_class])\n"
   ]
  },
  {
   "cell_type": "markdown",
   "id": "bebefde2-2a50-473e-a48f-6966e417294c",
   "metadata": {},
   "source": [
    "#### 5.1.2 Prediction Using Actual Image"
   ]
  },
  {
   "cell_type": "code",
   "execution_count": null,
   "id": "567913c8-5aa6-4e42-af6a-192d32948d2c",
   "metadata": {},
   "outputs": [],
   "source": [
    "\n",
    "# Load the image\n",
    "image = cv2.imread(\"images/sample_image_seven.png\", cv2.IMREAD_GRAYSCALE)  # Load as grayscale (for MNIST-like models)\n",
    "image = cv2.resize(image, (28, 28))  # Resize to match model input size\n",
    "image = image.astype(np.float32) / 255.0  # Normalize between 0 and 1\n",
    "\n",
    "# Plot the image\n",
    "plt.imshow(image, cmap=\"gray\")  # Display in grayscale\n",
    "plt.axis(\"off\")  # Hide axes\n",
    "plt.show()\n",
    "\n",
    "# Add batch dimension and reshape (e.g., for MNIST it should be (1, 28, 28, 1))\n",
    "image = np.expand_dims(image, axis=0)  # Add batch dimension\n",
    "image = np.expand_dims(image, axis=-1)  # Add channel dimension if needed\n",
    "\n",
    "interpreter.set_tensor(input_details[0]['index'], image)\n",
    "interpreter.invoke()\n",
    "\n",
    "# Get the output\n",
    "output = interpreter.get_tensor(output_details[0]['index'])\n",
    "\n",
    "# Get the predicted class\n",
    "predicted_class = np.argmax(output)\n",
    "print(\"Predicted Class:\", predicted_class)\n",
    "print(\"Confidence:\",output[0][predicted_class])"
   ]
  },
  {
   "cell_type": "markdown",
   "id": "3b486453-63cc-4fc5-a336-6e65ab56ad8d",
   "metadata": {},
   "source": [
    "## Step 5: Android Mobile App Integration\n",
    "While we won't cover the Android Studio code in this codelab, you can proceed with these general steps to integrate the TensorFlow Lite model into an Android app:\n",
    "\n",
    "- Place the TensorFlow Lite model (mnist_digit_classifier.tflite) in the assets folder of your Android project.\n",
    "- Use the TensorFlow Lite Android SDK to load and run the model on the device. You can use a DrawView component for users to draw digits and run the   - prediction on the drawn image.\n",
    "- Display the result on the screen, showing the predicted digit.\n"
   ]
  },
  {
   "cell_type": "markdown",
   "id": "1a8bf632-4cbb-486c-b72e-5a4e2631dfd8",
   "metadata": {},
   "source": [
    "## Step 5: Deploy and test the app\n",
    "Let's deploy the app to an Android Emulator or a physical Android device to test it. Below are the screenshots examples. "
   ]
  },
  {
   "cell_type": "code",
   "execution_count": null,
   "id": "16538cbe-22f8-49d6-afc1-b0c11eac1019",
   "metadata": {},
   "outputs": [],
   "source": [
    "# Load images\n",
    "image_paths = [\"images/Screenshot_20250207_151351.png\", \"images/Screenshot_20250207_151503.png\", \"images/Screenshot_20250207_151605.png\"]\n",
    "images = [Image.open(img) for img in image_paths]\n",
    "\n",
    "# Display images in a 2x2 grid\n",
    "fig, axes = plt.subplots(1, 3, figsize=(8, 10))\n",
    "for ax, img, title in zip(axes.flatten(), images, [\"Screenshot 1\", \"Screenshot 2\", \"Screenshot 3\"]):\n",
    "    ax.imshow(img)\n",
    "    ax.set_title(title)\n",
    "    ax.axis(\"off\")\n",
    "\n",
    "plt.tight_layout()\n",
    "plt.show()\n"
   ]
  },
  {
   "cell_type": "markdown",
   "id": "5b96f9ce-ec15-4ef9-b2c8-fd329ac6d6e8",
   "metadata": {},
   "source": [
    "## Step 7: Advanced - Improve Accuracy\n",
    "You may have noticed that the model performs well on the test dataset but struggles when recognizing digits you draw. This is a common issue in machine learning—models may generalize poorly to real-world data.\n",
    "\n",
    "### To-Do List:\n",
    "\n",
    "#### **Understand the Problem**  \n",
    "- Test the model with MNIST test images and compare accuracy.  \n",
    "- Draw your own digits, capture them as images, and test the model.  \n",
    "- Observe misclassified digits and patterns of errors.  \n",
    "\n",
    "#### **Apply Data Augmentation**  \n",
    "- Import `ImageDataGenerator` for augmentation.  \n",
    "- Define augmentation techniques (rotation, shifting, zooming, etc.).  \n",
    "- Apply augmentation to the training dataset.  \n",
    "\n",
    "#### **Retrain the Model**  \n",
    "- Train the model using augmented data.  \n",
    "- Validate on the test dataset.  \n",
    "\n",
    "#### **Evaluate the Model Again**  \n",
    "- Check the accuracy after retraining.  \n",
    "- Test with your own handwritten digits again.  \n",
    "- Compare performance before and after augmentation.  "
   ]
  },
  {
   "cell_type": "markdown",
   "id": "90810f56-6e56-4a80-b3c9-f5570b863283",
   "metadata": {},
   "source": [
    "## 🎉 Congratulations!  \n",
    "\n",
    "You have gone through an end-to-end journey of training a digit classification model on the MNIST dataset using TensorFlow and deployed the model to a mobile app that uses TensorFlow Lite.  \n",
    "\n",
    "### **What You Have Learned:**  \n",
    "✅ Preprocessing and loading the MNIST dataset  \n",
    "✅ Building and training a neural network with TensorFlow  \n",
    "✅ Converting the trained model to TensorFlow Lite format  \n",
    "✅ Deploying the model to an Android mobile app    \n",
    "\n",
    "### **Next Steps:**  \n",
    "🔹 Improving model accuracy with data augmentation\n",
    "🔹 Experiment with different neural network architectures  \n",
    "🔹 Train with more diverse handwriting datasets  \n",
    "🔹 Optimize the model for better performance on mobile devices  \n",
    "\n",
    "🚀 Keep exploring and improving! Happy coding!  \n"
   ]
  },
  {
   "cell_type": "markdown",
   "id": "bd2199bf-2277-4c97-9671-9180bf87856e",
   "metadata": {},
   "source": [
    "## Appreciation  \n",
    "\n",
    "Thanks to the amazing tools that made this possible!  \n",
    "\n",
    "<table>\n",
    "    <tr>\n",
    "        <td><img src=\"images/android_studio.png\" alt=\"Android Studio\" width=\"200\"/></td>\n",
    "        <td><img src=\"images/tensorflow.png\" alt=\"TensorFlow\" width=\"200\"/></td>\n",
    "        <td><img src=\"images/tensorflow_lite.png\" alt=\"TensorFlow Lite\" width=\"200\"/></td>\n",
    "    </tr>\n",
    "    <tr>\n",
    "        <td align=\"center\"><b>Android Studio</b></td>\n",
    "        <td align=\"center\"><b>TensorFlow</b></td>\n",
    "        <td align=\"center\"><b>TensorFlow Lite</b></td>\n",
    "    </tr>\n",
    "</table>\n"
   ]
  },
  {
   "cell_type": "code",
   "execution_count": null,
   "id": "f76a0192-ad0b-4f4a-b8aa-e0cd91615e37",
   "metadata": {},
   "outputs": [],
   "source": []
  }
 ],
 "metadata": {
  "kernelspec": {
   "display_name": "Python 3 (ipykernel)",
   "language": "python",
   "name": "python3"
  },
  "language_info": {
   "codemirror_mode": {
    "name": "ipython",
    "version": 3
   },
   "file_extension": ".py",
   "mimetype": "text/x-python",
   "name": "python",
   "nbconvert_exporter": "python",
   "pygments_lexer": "ipython3",
   "version": "3.12.7"
  }
 },
 "nbformat": 4,
 "nbformat_minor": 5
}
